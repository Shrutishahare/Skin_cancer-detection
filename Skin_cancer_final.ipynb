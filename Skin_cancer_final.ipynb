{
  "cells": [
    {
      "cell_type": "code",
      "execution_count": null,
      "metadata": {
        "id": "gK9NpsTPtFIj"
      },
      "outputs": [],
      "source": [
        "!mkdir -p ~/.kaggle\n",
        "!cp kaggle.json ~/.kaggle/"
      ]
    },
    {
      "cell_type": "code",
      "execution_count": null,
      "metadata": {
        "colab": {
          "base_uri": "https://localhost:8080/"
        },
        "id": "nLVdRclhqlcS",
        "outputId": "ca2a3f3f-90c8-4283-ffc6-d70444d7c613"
      },
      "outputs": [
        {
          "name": "stdout",
          "output_type": "stream",
          "text": [
            "Warning: Your Kaggle API key is readable by other users on this system! To fix this, you can run 'chmod 600 /root/.kaggle/kaggle.json'\n",
            "Downloading skin-cancer-mnist-ham10000.zip to /content\n",
            "100% 5.20G/5.20G [02:45<00:00, 35.1MB/s]\n",
            "100% 5.20G/5.20G [02:45<00:00, 33.7MB/s]\n"
          ]
        }
      ],
      "source": [
        "!kaggle datasets download -d kmader/skin-cancer-mnist-ham10000"
      ]
    },
    {
      "cell_type": "code",
      "execution_count": null,
      "metadata": {
        "id": "JEtu1F3Eueya"
      },
      "outputs": [],
      "source": [
        "import zipfile\n",
        "zip_ref = zipfile.ZipFile('/content/skin-cancer-mnist-ham10000.zip','r')\n",
        "zip_ref.extractall('/content')\n",
        "zip_ref.close()"
      ]
    },
    {
      "cell_type": "code",
      "execution_count": null,
      "metadata": {
        "id": "ANNswHLE0XQr"
      },
      "outputs": [],
      "source": [
        "import pandas as pd\n",
        "import numpy as np\n",
        "import tensorflow as tf\n",
        "from tensorflow import keras\n",
        "from keras import optimizers\n",
        "from keras.models import Sequential\n",
        "from keras.layers import Dense, Conv2D, Dropout, Flatten, MaxPooling2D\n",
        "from keras.applications import MobileNetV2"
      ]
    },
    {
      "cell_type": "code",
      "execution_count": null,
      "metadata": {
        "colab": {
          "base_uri": "https://localhost:8080/"
        },
        "id": "Ik5YR59KwGIt",
        "outputId": "72ce7754-df11-4ceb-9e42-1d462ea99115"
      },
      "outputs": [
        {
          "name": "stdout",
          "output_type": "stream",
          "text": [
            "Downloading data from https://storage.googleapis.com/tensorflow/keras-applications/mobilenet_v2/mobilenet_v2_weights_tf_dim_ordering_tf_kernels_1.0_224_no_top.h5\n",
            "9406464/9406464 [==============================] - 1s 0us/step\n"
          ]
        }
      ],
      "source": [
        "base_model=MobileNetV2(include_top=False, weights=\"imagenet\", input_shape=(224,224,3))"
      ]
    },
    {
      "cell_type": "code",
      "execution_count": null,
      "metadata": {
        "id": "ZnlJnxxLU6HZ"
      },
      "outputs": [],
      "source": [
        "model = Sequential()\n",
        "model.add(base_model)\n",
        "model.add(Conv2D(64,(3,3), activation='relu'))\n",
        "model.add(MaxPooling2D(pool_size=(2,3)))\n",
        "model.add(Dropout(0.40))\n",
        "model.add(Flatten())\n",
        "model.add(Dense(128,activation='relu'))\n",
        "model.add(Dropout(0.40))\n",
        "model.add(Dense(7,activation='sigmoid'))"
      ]
    },
    {
      "cell_type": "code",
      "execution_count": null,
      "metadata": {
        "colab": {
          "base_uri": "https://localhost:8080/"
        },
        "id": "kDEth_mKGxsh",
        "outputId": "ee2d2972-64e2-4e76-8118-33f7d2aca745"
      },
      "outputs": [
        {
          "name": "stdout",
          "output_type": "stream",
          "text": [
            "Model: \"sequential\"\n",
            "_________________________________________________________________\n",
            " Layer (type)                Output Shape              Param #   \n",
            "=================================================================\n",
            " mobilenetv2_1.00_224 (Funct  (None, 7, 7, 1280)       2257984   \n",
            " ional)                                                          \n",
            "                                                                 \n",
            " conv2d (Conv2D)             (None, 5, 5, 64)          737344    \n",
            "                                                                 \n",
            " max_pooling2d (MaxPooling2D  (None, 2, 1, 64)         0         \n",
            " )                                                               \n",
            "                                                                 \n",
            " dropout (Dropout)           (None, 2, 1, 64)          0         \n",
            "                                                                 \n",
            " flatten (Flatten)           (None, 128)               0         \n",
            "                                                                 \n",
            " dense (Dense)               (None, 128)               16512     \n",
            "                                                                 \n",
            " dropout_1 (Dropout)         (None, 128)               0         \n",
            "                                                                 \n",
            " dense_1 (Dense)             (None, 7)                 903       \n",
            "                                                                 \n",
            "=================================================================\n",
            "Total params: 3,012,743\n",
            "Trainable params: 2,978,631\n",
            "Non-trainable params: 34,112\n",
            "_________________________________________________________________\n"
          ]
        }
      ],
      "source": [
        "model.summary()"
      ]
    },
    {
      "cell_type": "code",
      "execution_count": null,
      "metadata": {
        "id": "sZxxjr9tXKmH"
      },
      "outputs": [],
      "source": [
        "data=pd.read_csv(\"HAM10000_metadata.csv\")\n",
        "data['image_full_name']=data['image_id']+'.jpg'\n",
        "X=data[['image_full_name','dx','lesion_id']]"
      ]
    },
    {
      "cell_type": "code",
      "execution_count": null,
      "metadata": {
        "colab": {
          "base_uri": "https://localhost:8080/",
          "height": 206
        },
        "id": "I-9oNqRdaakO",
        "outputId": "eab4a7fd-d253-4250-85d9-5bad5730ed34"
      },
      "outputs": [
        {
          "data": {
            "text/html": [
              "\n",
              "\n",
              "  <div id=\"df-f236f896-ebcd-4d4e-9038-c2bcd0e9c475\">\n",
              "    <div class=\"colab-df-container\">\n",
              "      <div>\n",
              "<style scoped>\n",
              "    .dataframe tbody tr th:only-of-type {\n",
              "        vertical-align: middle;\n",
              "    }\n",
              "\n",
              "    .dataframe tbody tr th {\n",
              "        vertical-align: top;\n",
              "    }\n",
              "\n",
              "    .dataframe thead th {\n",
              "        text-align: right;\n",
              "    }\n",
              "</style>\n",
              "<table border=\"1\" class=\"dataframe\">\n",
              "  <thead>\n",
              "    <tr style=\"text-align: right;\">\n",
              "      <th></th>\n",
              "      <th>image_full_name</th>\n",
              "      <th>dx</th>\n",
              "      <th>lesion_id</th>\n",
              "    </tr>\n",
              "  </thead>\n",
              "  <tbody>\n",
              "    <tr>\n",
              "      <th>6013</th>\n",
              "      <td>ISIC_0027267.jpg</td>\n",
              "      <td>nv</td>\n",
              "      <td>HAM_0002870</td>\n",
              "    </tr>\n",
              "    <tr>\n",
              "      <th>7803</th>\n",
              "      <td>ISIC_0033688.jpg</td>\n",
              "      <td>nv</td>\n",
              "      <td>HAM_0004424</td>\n",
              "    </tr>\n",
              "    <tr>\n",
              "      <th>9027</th>\n",
              "      <td>ISIC_0025776.jpg</td>\n",
              "      <td>nv</td>\n",
              "      <td>HAM_0003785</td>\n",
              "    </tr>\n",
              "    <tr>\n",
              "      <th>6179</th>\n",
              "      <td>ISIC_0032326.jpg</td>\n",
              "      <td>nv</td>\n",
              "      <td>HAM_0000280</td>\n",
              "    </tr>\n",
              "    <tr>\n",
              "      <th>6055</th>\n",
              "      <td>ISIC_0031010.jpg</td>\n",
              "      <td>nv</td>\n",
              "      <td>HAM_0002910</td>\n",
              "    </tr>\n",
              "  </tbody>\n",
              "</table>\n",
              "</div>\n",
              "      <button class=\"colab-df-convert\" onclick=\"convertToInteractive('df-f236f896-ebcd-4d4e-9038-c2bcd0e9c475')\"\n",
              "              title=\"Convert this dataframe to an interactive table.\"\n",
              "              style=\"display:none;\">\n",
              "\n",
              "  <svg xmlns=\"http://www.w3.org/2000/svg\" height=\"24px\"viewBox=\"0 0 24 24\"\n",
              "       width=\"24px\">\n",
              "    <path d=\"M0 0h24v24H0V0z\" fill=\"none\"/>\n",
              "    <path d=\"M18.56 5.44l.94 2.06.94-2.06 2.06-.94-2.06-.94-.94-2.06-.94 2.06-2.06.94zm-11 1L8.5 8.5l.94-2.06 2.06-.94-2.06-.94L8.5 2.5l-.94 2.06-2.06.94zm10 10l.94 2.06.94-2.06 2.06-.94-2.06-.94-.94-2.06-.94 2.06-2.06.94z\"/><path d=\"M17.41 7.96l-1.37-1.37c-.4-.4-.92-.59-1.43-.59-.52 0-1.04.2-1.43.59L10.3 9.45l-7.72 7.72c-.78.78-.78 2.05 0 2.83L4 21.41c.39.39.9.59 1.41.59.51 0 1.02-.2 1.41-.59l7.78-7.78 2.81-2.81c.8-.78.8-2.07 0-2.86zM5.41 20L4 18.59l7.72-7.72 1.47 1.35L5.41 20z\"/>\n",
              "  </svg>\n",
              "      </button>\n",
              "\n",
              "\n",
              "\n",
              "    <div id=\"df-0cd80eb9-5364-4791-9878-8e65b53a8d34\">\n",
              "      <button class=\"colab-df-quickchart\" onclick=\"quickchart('df-0cd80eb9-5364-4791-9878-8e65b53a8d34')\"\n",
              "              title=\"Suggest charts.\"\n",
              "              style=\"display:none;\">\n",
              "\n",
              "<svg xmlns=\"http://www.w3.org/2000/svg\" height=\"24px\"viewBox=\"0 0 24 24\"\n",
              "     width=\"24px\">\n",
              "    <g>\n",
              "        <path d=\"M19 3H5c-1.1 0-2 .9-2 2v14c0 1.1.9 2 2 2h14c1.1 0 2-.9 2-2V5c0-1.1-.9-2-2-2zM9 17H7v-7h2v7zm4 0h-2V7h2v10zm4 0h-2v-4h2v4z\"/>\n",
              "    </g>\n",
              "</svg>\n",
              "      </button>\n",
              "    </div>\n",
              "\n",
              "<style>\n",
              "  .colab-df-quickchart {\n",
              "    background-color: #E8F0FE;\n",
              "    border: none;\n",
              "    border-radius: 50%;\n",
              "    cursor: pointer;\n",
              "    display: none;\n",
              "    fill: #1967D2;\n",
              "    height: 32px;\n",
              "    padding: 0 0 0 0;\n",
              "    width: 32px;\n",
              "  }\n",
              "\n",
              "  .colab-df-quickchart:hover {\n",
              "    background-color: #E2EBFA;\n",
              "    box-shadow: 0px 1px 2px rgba(60, 64, 67, 0.3), 0px 1px 3px 1px rgba(60, 64, 67, 0.15);\n",
              "    fill: #174EA6;\n",
              "  }\n",
              "\n",
              "  [theme=dark] .colab-df-quickchart {\n",
              "    background-color: #3B4455;\n",
              "    fill: #D2E3FC;\n",
              "  }\n",
              "\n",
              "  [theme=dark] .colab-df-quickchart:hover {\n",
              "    background-color: #434B5C;\n",
              "    box-shadow: 0px 1px 3px 1px rgba(0, 0, 0, 0.15);\n",
              "    filter: drop-shadow(0px 1px 2px rgba(0, 0, 0, 0.3));\n",
              "    fill: #FFFFFF;\n",
              "  }\n",
              "</style>\n",
              "\n",
              "    <script>\n",
              "      async function quickchart(key) {\n",
              "        const containerElement = document.querySelector('#' + key);\n",
              "        const charts = await google.colab.kernel.invokeFunction(\n",
              "            'suggestCharts', [key], {});\n",
              "      }\n",
              "    </script>\n",
              "\n",
              "      <script>\n",
              "\n",
              "function displayQuickchartButton(domScope) {\n",
              "  let quickchartButtonEl =\n",
              "    domScope.querySelector('#df-0cd80eb9-5364-4791-9878-8e65b53a8d34 button.colab-df-quickchart');\n",
              "  quickchartButtonEl.style.display =\n",
              "    google.colab.kernel.accessAllowed ? 'block' : 'none';\n",
              "}\n",
              "\n",
              "        displayQuickchartButton(document);\n",
              "      </script>\n",
              "      <style>\n",
              "    .colab-df-container {\n",
              "      display:flex;\n",
              "      flex-wrap:wrap;\n",
              "      gap: 12px;\n",
              "    }\n",
              "\n",
              "    .colab-df-convert {\n",
              "      background-color: #E8F0FE;\n",
              "      border: none;\n",
              "      border-radius: 50%;\n",
              "      cursor: pointer;\n",
              "      display: none;\n",
              "      fill: #1967D2;\n",
              "      height: 32px;\n",
              "      padding: 0 0 0 0;\n",
              "      width: 32px;\n",
              "    }\n",
              "\n",
              "    .colab-df-convert:hover {\n",
              "      background-color: #E2EBFA;\n",
              "      box-shadow: 0px 1px 2px rgba(60, 64, 67, 0.3), 0px 1px 3px 1px rgba(60, 64, 67, 0.15);\n",
              "      fill: #174EA6;\n",
              "    }\n",
              "\n",
              "    [theme=dark] .colab-df-convert {\n",
              "      background-color: #3B4455;\n",
              "      fill: #D2E3FC;\n",
              "    }\n",
              "\n",
              "    [theme=dark] .colab-df-convert:hover {\n",
              "      background-color: #434B5C;\n",
              "      box-shadow: 0px 1px 3px 1px rgba(0, 0, 0, 0.15);\n",
              "      filter: drop-shadow(0px 1px 2px rgba(0, 0, 0, 0.3));\n",
              "      fill: #FFFFFF;\n",
              "    }\n",
              "  </style>\n",
              "\n",
              "      <script>\n",
              "        const buttonEl =\n",
              "          document.querySelector('#df-f236f896-ebcd-4d4e-9038-c2bcd0e9c475 button.colab-df-convert');\n",
              "        buttonEl.style.display =\n",
              "          google.colab.kernel.accessAllowed ? 'block' : 'none';\n",
              "\n",
              "        async function convertToInteractive(key) {\n",
              "          const element = document.querySelector('#df-f236f896-ebcd-4d4e-9038-c2bcd0e9c475');\n",
              "          const dataTable =\n",
              "            await google.colab.kernel.invokeFunction('convertToInteractive',\n",
              "                                                     [key], {});\n",
              "          if (!dataTable) return;\n",
              "\n",
              "          const docLinkHtml = 'Like what you see? Visit the ' +\n",
              "            '<a target=\"_blank\" href=https://colab.research.google.com/notebooks/data_table.ipynb>data table notebook</a>'\n",
              "            + ' to learn more about interactive tables.';\n",
              "          element.innerHTML = '';\n",
              "          dataTable['output_type'] = 'display_data';\n",
              "          await google.colab.output.renderOutput(dataTable, element);\n",
              "          const docLink = document.createElement('div');\n",
              "          docLink.innerHTML = docLinkHtml;\n",
              "          element.appendChild(docLink);\n",
              "        }\n",
              "      </script>\n",
              "    </div>\n",
              "  </div>\n"
            ],
            "text/plain": [
              "       image_full_name  dx    lesion_id\n",
              "6013  ISIC_0027267.jpg  nv  HAM_0002870\n",
              "7803  ISIC_0033688.jpg  nv  HAM_0004424\n",
              "9027  ISIC_0025776.jpg  nv  HAM_0003785\n",
              "6179  ISIC_0032326.jpg  nv  HAM_0000280\n",
              "6055  ISIC_0031010.jpg  nv  HAM_0002910"
            ]
          },
          "execution_count": 19,
          "metadata": {},
          "output_type": "execute_result"
        }
      ],
      "source": [
        "X.sample(5)"
      ]
    },
    {
      "cell_type": "code",
      "execution_count": null,
      "metadata": {
        "id": "h_xRSoDtblUE"
      },
      "outputs": [],
      "source": [
        "from sklearn.model_selection import train_test_split\n",
        "if 'dx' in X.columns:\n",
        "  Y=X.pop('dx').to_frame()\n",
        "  X_train, X_test, y_train, y_test = train_test_split(X,Y,test_size=0.17,random_state=42)\n",
        "  X_train,X_val,y_train,y_val  = train_test_split(X_train, y_train, test_size=0.17, random_state=42)\n",
        "else:\n",
        "  print(\"'dx' column does not exist in X.\")"
      ]
    },
    {
      "cell_type": "code",
      "execution_count": null,
      "metadata": {
        "id": "J4UXHvUulp-4"
      },
      "outputs": [],
      "source": [
        "train=pd.concat([X_train,y_train],axis=1)\n",
        "val=pd.concat([X_val,y_val],axis=1)\n",
        "test=pd.concat([X_test,y_test],axis=1)"
      ]
    },
    {
      "cell_type": "code",
      "execution_count": null,
      "metadata": {
        "id": "y0ADPUk3rpwD"
      },
      "outputs": [],
      "source": [
        "from sklearn.preprocessing import LabelEncoder\n",
        "encoder = LabelEncoder()\n",
        "encoder.fit(val['dx'])\n",
        "name_as_indexes_train=encoder.transform(val['dx'])\n",
        "val['label']=name_as_indexes_train"
      ]
    },
    {
      "cell_type": "code",
      "execution_count": null,
      "metadata": {
        "id": "FHdEYJyiv2cq"
      },
      "outputs": [],
      "source": [
        "encoder = LabelEncoder()\n",
        "encoder.fit(test['dx'])\n",
        "name_as_indexes_test=encoder.transform(test['dx'])\n",
        "test['label']=name_as_indexes_test"
      ]
    },
    {
      "cell_type": "code",
      "execution_count": null,
      "metadata": {
        "id": "BMp-j-nE_vQp"
      },
      "outputs": [],
      "source": [
        "from tensorflow.keras.preprocessing.image import ImageDataGenerator\n",
        "from keras.preprocessing.image import ImageDataGenerator\n",
        "train_generator = ImageDataGenerator(rescale = 1./255,\n",
        "                                     rotation_range = 10,\n",
        "                                     zoom_range = 0.1,\n",
        "                                     )"
      ]
    },
    {
      "cell_type": "code",
      "execution_count": null,
      "metadata": {
        "colab": {
          "base_uri": "https://localhost:8080/",
          "height": 423
        },
        "id": "W4k3IwmOw1Ug",
        "outputId": "d3a86d4f-332f-40a3-9cfa-7bc0b89dc09a"
      },
      "outputs": [
        {
          "data": {
            "text/html": [
              "\n",
              "\n",
              "  <div id=\"df-d735e3a9-2bd5-4e1a-abb3-da45bfbcdf6b\">\n",
              "    <div class=\"colab-df-container\">\n",
              "      <div>\n",
              "<style scoped>\n",
              "    .dataframe tbody tr th:only-of-type {\n",
              "        vertical-align: middle;\n",
              "    }\n",
              "\n",
              "    .dataframe tbody tr th {\n",
              "        vertical-align: top;\n",
              "    }\n",
              "\n",
              "    .dataframe thead th {\n",
              "        text-align: right;\n",
              "    }\n",
              "</style>\n",
              "<table border=\"1\" class=\"dataframe\">\n",
              "  <thead>\n",
              "    <tr style=\"text-align: right;\">\n",
              "      <th></th>\n",
              "      <th>image_full_name</th>\n",
              "      <th>lesion_id</th>\n",
              "    </tr>\n",
              "  </thead>\n",
              "  <tbody>\n",
              "    <tr>\n",
              "      <th>3736</th>\n",
              "      <td>ISIC_0027575.jpg</td>\n",
              "      <td>HAM_0002758</td>\n",
              "    </tr>\n",
              "    <tr>\n",
              "      <th>147</th>\n",
              "      <td>ISIC_0033646.jpg</td>\n",
              "      <td>HAM_0003743</td>\n",
              "    </tr>\n",
              "    <tr>\n",
              "      <th>4723</th>\n",
              "      <td>ISIC_0026025.jpg</td>\n",
              "      <td>HAM_0002396</td>\n",
              "    </tr>\n",
              "    <tr>\n",
              "      <th>1374</th>\n",
              "      <td>ISIC_0028127.jpg</td>\n",
              "      <td>HAM_0005911</td>\n",
              "    </tr>\n",
              "    <tr>\n",
              "      <th>269</th>\n",
              "      <td>ISIC_0030124.jpg</td>\n",
              "      <td>HAM_0004807</td>\n",
              "    </tr>\n",
              "    <tr>\n",
              "      <th>...</th>\n",
              "      <td>...</td>\n",
              "      <td>...</td>\n",
              "    </tr>\n",
              "    <tr>\n",
              "      <th>8504</th>\n",
              "      <td>ISIC_0028212.jpg</td>\n",
              "      <td>HAM_0006266</td>\n",
              "    </tr>\n",
              "    <tr>\n",
              "      <th>4006</th>\n",
              "      <td>ISIC_0029167.jpg</td>\n",
              "      <td>HAM_0000213</td>\n",
              "    </tr>\n",
              "    <tr>\n",
              "      <th>40</th>\n",
              "      <td>ISIC_0031650.jpg</td>\n",
              "      <td>HAM_0003847</td>\n",
              "    </tr>\n",
              "    <tr>\n",
              "      <th>2456</th>\n",
              "      <td>ISIC_0032057.jpg</td>\n",
              "      <td>HAM_0004862</td>\n",
              "    </tr>\n",
              "    <tr>\n",
              "      <th>5797</th>\n",
              "      <td>ISIC_0025004.jpg</td>\n",
              "      <td>HAM_0005043</td>\n",
              "    </tr>\n",
              "  </tbody>\n",
              "</table>\n",
              "<p>6898 rows × 2 columns</p>\n",
              "</div>\n",
              "      <button class=\"colab-df-convert\" onclick=\"convertToInteractive('df-d735e3a9-2bd5-4e1a-abb3-da45bfbcdf6b')\"\n",
              "              title=\"Convert this dataframe to an interactive table.\"\n",
              "              style=\"display:none;\">\n",
              "\n",
              "  <svg xmlns=\"http://www.w3.org/2000/svg\" height=\"24px\"viewBox=\"0 0 24 24\"\n",
              "       width=\"24px\">\n",
              "    <path d=\"M0 0h24v24H0V0z\" fill=\"none\"/>\n",
              "    <path d=\"M18.56 5.44l.94 2.06.94-2.06 2.06-.94-2.06-.94-.94-2.06-.94 2.06-2.06.94zm-11 1L8.5 8.5l.94-2.06 2.06-.94-2.06-.94L8.5 2.5l-.94 2.06-2.06.94zm10 10l.94 2.06.94-2.06 2.06-.94-2.06-.94-.94-2.06-.94 2.06-2.06.94z\"/><path d=\"M17.41 7.96l-1.37-1.37c-.4-.4-.92-.59-1.43-.59-.52 0-1.04.2-1.43.59L10.3 9.45l-7.72 7.72c-.78.78-.78 2.05 0 2.83L4 21.41c.39.39.9.59 1.41.59.51 0 1.02-.2 1.41-.59l7.78-7.78 2.81-2.81c.8-.78.8-2.07 0-2.86zM5.41 20L4 18.59l7.72-7.72 1.47 1.35L5.41 20z\"/>\n",
              "  </svg>\n",
              "      </button>\n",
              "\n",
              "\n",
              "\n",
              "    <div id=\"df-ccb1f7fa-bb83-4fe2-8063-996752608dbd\">\n",
              "      <button class=\"colab-df-quickchart\" onclick=\"quickchart('df-ccb1f7fa-bb83-4fe2-8063-996752608dbd')\"\n",
              "              title=\"Suggest charts.\"\n",
              "              style=\"display:none;\">\n",
              "\n",
              "<svg xmlns=\"http://www.w3.org/2000/svg\" height=\"24px\"viewBox=\"0 0 24 24\"\n",
              "     width=\"24px\">\n",
              "    <g>\n",
              "        <path d=\"M19 3H5c-1.1 0-2 .9-2 2v14c0 1.1.9 2 2 2h14c1.1 0 2-.9 2-2V5c0-1.1-.9-2-2-2zM9 17H7v-7h2v7zm4 0h-2V7h2v10zm4 0h-2v-4h2v4z\"/>\n",
              "    </g>\n",
              "</svg>\n",
              "      </button>\n",
              "    </div>\n",
              "\n",
              "<style>\n",
              "  .colab-df-quickchart {\n",
              "    background-color: #E8F0FE;\n",
              "    border: none;\n",
              "    border-radius: 50%;\n",
              "    cursor: pointer;\n",
              "    display: none;\n",
              "    fill: #1967D2;\n",
              "    height: 32px;\n",
              "    padding: 0 0 0 0;\n",
              "    width: 32px;\n",
              "  }\n",
              "\n",
              "  .colab-df-quickchart:hover {\n",
              "    background-color: #E2EBFA;\n",
              "    box-shadow: 0px 1px 2px rgba(60, 64, 67, 0.3), 0px 1px 3px 1px rgba(60, 64, 67, 0.15);\n",
              "    fill: #174EA6;\n",
              "  }\n",
              "\n",
              "  [theme=dark] .colab-df-quickchart {\n",
              "    background-color: #3B4455;\n",
              "    fill: #D2E3FC;\n",
              "  }\n",
              "\n",
              "  [theme=dark] .colab-df-quickchart:hover {\n",
              "    background-color: #434B5C;\n",
              "    box-shadow: 0px 1px 3px 1px rgba(0, 0, 0, 0.15);\n",
              "    filter: drop-shadow(0px 1px 2px rgba(0, 0, 0, 0.3));\n",
              "    fill: #FFFFFF;\n",
              "  }\n",
              "</style>\n",
              "\n",
              "    <script>\n",
              "      async function quickchart(key) {\n",
              "        const containerElement = document.querySelector('#' + key);\n",
              "        const charts = await google.colab.kernel.invokeFunction(\n",
              "            'suggestCharts', [key], {});\n",
              "      }\n",
              "    </script>\n",
              "\n",
              "      <script>\n",
              "\n",
              "function displayQuickchartButton(domScope) {\n",
              "  let quickchartButtonEl =\n",
              "    domScope.querySelector('#df-ccb1f7fa-bb83-4fe2-8063-996752608dbd button.colab-df-quickchart');\n",
              "  quickchartButtonEl.style.display =\n",
              "    google.colab.kernel.accessAllowed ? 'block' : 'none';\n",
              "}\n",
              "\n",
              "        displayQuickchartButton(document);\n",
              "      </script>\n",
              "      <style>\n",
              "    .colab-df-container {\n",
              "      display:flex;\n",
              "      flex-wrap:wrap;\n",
              "      gap: 12px;\n",
              "    }\n",
              "\n",
              "    .colab-df-convert {\n",
              "      background-color: #E8F0FE;\n",
              "      border: none;\n",
              "      border-radius: 50%;\n",
              "      cursor: pointer;\n",
              "      display: none;\n",
              "      fill: #1967D2;\n",
              "      height: 32px;\n",
              "      padding: 0 0 0 0;\n",
              "      width: 32px;\n",
              "    }\n",
              "\n",
              "    .colab-df-convert:hover {\n",
              "      background-color: #E2EBFA;\n",
              "      box-shadow: 0px 1px 2px rgba(60, 64, 67, 0.3), 0px 1px 3px 1px rgba(60, 64, 67, 0.15);\n",
              "      fill: #174EA6;\n",
              "    }\n",
              "\n",
              "    [theme=dark] .colab-df-convert {\n",
              "      background-color: #3B4455;\n",
              "      fill: #D2E3FC;\n",
              "    }\n",
              "\n",
              "    [theme=dark] .colab-df-convert:hover {\n",
              "      background-color: #434B5C;\n",
              "      box-shadow: 0px 1px 3px 1px rgba(0, 0, 0, 0.15);\n",
              "      filter: drop-shadow(0px 1px 2px rgba(0, 0, 0, 0.3));\n",
              "      fill: #FFFFFF;\n",
              "    }\n",
              "  </style>\n",
              "\n",
              "      <script>\n",
              "        const buttonEl =\n",
              "          document.querySelector('#df-d735e3a9-2bd5-4e1a-abb3-da45bfbcdf6b button.colab-df-convert');\n",
              "        buttonEl.style.display =\n",
              "          google.colab.kernel.accessAllowed ? 'block' : 'none';\n",
              "\n",
              "        async function convertToInteractive(key) {\n",
              "          const element = document.querySelector('#df-d735e3a9-2bd5-4e1a-abb3-da45bfbcdf6b');\n",
              "          const dataTable =\n",
              "            await google.colab.kernel.invokeFunction('convertToInteractive',\n",
              "                                                     [key], {});\n",
              "          if (!dataTable) return;\n",
              "\n",
              "          const docLinkHtml = 'Like what you see? Visit the ' +\n",
              "            '<a target=\"_blank\" href=https://colab.research.google.com/notebooks/data_table.ipynb>data table notebook</a>'\n",
              "            + ' to learn more about interactive tables.';\n",
              "          element.innerHTML = '';\n",
              "          dataTable['output_type'] = 'display_data';\n",
              "          await google.colab.output.renderOutput(dataTable, element);\n",
              "          const docLink = document.createElement('div');\n",
              "          docLink.innerHTML = docLinkHtml;\n",
              "          element.appendChild(docLink);\n",
              "        }\n",
              "      </script>\n",
              "    </div>\n",
              "  </div>\n"
            ],
            "text/plain": [
              "       image_full_name    lesion_id\n",
              "3736  ISIC_0027575.jpg  HAM_0002758\n",
              "147   ISIC_0033646.jpg  HAM_0003743\n",
              "4723  ISIC_0026025.jpg  HAM_0002396\n",
              "1374  ISIC_0028127.jpg  HAM_0005911\n",
              "269   ISIC_0030124.jpg  HAM_0004807\n",
              "...                ...          ...\n",
              "8504  ISIC_0028212.jpg  HAM_0006266\n",
              "4006  ISIC_0029167.jpg  HAM_0000213\n",
              "40    ISIC_0031650.jpg  HAM_0003847\n",
              "2456  ISIC_0032057.jpg  HAM_0004862\n",
              "5797  ISIC_0025004.jpg  HAM_0005043\n",
              "\n",
              "[6898 rows x 2 columns]"
            ]
          },
          "execution_count": 25,
          "metadata": {},
          "output_type": "execute_result"
        }
      ],
      "source": [
        "X_train"
      ]
    },
    {
      "cell_type": "code",
      "execution_count": null,
      "metadata": {
        "colab": {
          "base_uri": "https://localhost:8080/"
        },
        "id": "IcpYoppBH6NY",
        "outputId": "e739e9a3-834b-43cc-c4d8-7da945100c4d"
      },
      "outputs": [
        {
          "name": "stdout",
          "output_type": "stream",
          "text": [
            "Found 3452 validated image filenames belonging to 7 classes.\n"
          ]
        },
        {
          "name": "stderr",
          "output_type": "stream",
          "text": [
            "/usr/local/lib/python3.10/dist-packages/keras/preprocessing/image.py:1137: UserWarning: Found 3446 invalid image filename(s) in x_col=\"image_full_name\". These filename(s) will be ignored.\n",
            "  warnings.warn(\n"
          ]
        }
      ],
      "source": [
        "train_data = train_generator.flow_from_dataframe(dataframe=train,x_col=\"image_full_name\",y_col=\"dx\",\n",
        "                                                 batch_size=32,directory=\"/content/ham10000_images_part_1\",\n",
        "                                                 shuffle=True, class_mode=\"categorical\",target_size=(224,224))"
      ]
    },
    {
      "cell_type": "code",
      "execution_count": null,
      "metadata": {
        "id": "pq2PwEk6_9gC"
      },
      "outputs": [],
      "source": [
        "test_generator=ImageDataGenerator(rescale=1./255,rotation_range=10,\n",
        "                                  zoom_range=0.1, width_shift_range=0.0,height_shift_range=0.02)"
      ]
    },
    {
      "cell_type": "code",
      "execution_count": null,
      "metadata": {
        "colab": {
          "base_uri": "https://localhost:8080/"
        },
        "id": "fRhS2BiFBjR4",
        "outputId": "a9d7c737-34d4-42bc-ca8a-dba3ec8d9c24"
      },
      "outputs": [
        {
          "name": "stdout",
          "output_type": "stream",
          "text": [
            "Found 836 validated image filenames.\n"
          ]
        },
        {
          "name": "stderr",
          "output_type": "stream",
          "text": [
            "/usr/local/lib/python3.10/dist-packages/keras/preprocessing/image.py:1137: UserWarning: Found 867 invalid image filename(s) in x_col=\"image_full_name\". These filename(s) will be ignored.\n",
            "  warnings.warn(\n"
          ]
        }
      ],
      "source": [
        "test_data=test_generator.flow_from_dataframe(dataframe=test,x_col=\"image_full_name\",y_col=\"dx\",\n",
        "                                                directory=\"/content/ham10000_images_part_1\",\n",
        "                                             shuffle=False,batch_size=1,class_mode=None,target_size=(224,224))"
      ]
    },
    {
      "cell_type": "code",
      "execution_count": null,
      "metadata": {
        "colab": {
          "base_uri": "https://localhost:8080/"
        },
        "id": "xYRuopFSE8lE",
        "outputId": "16b05923-763d-4229-d84e-b86c72bfebe6"
      },
      "outputs": [
        {
          "name": "stdout",
          "output_type": "stream",
          "text": [
            "Found 712 validated image filenames belonging to 7 classes.\n"
          ]
        },
        {
          "name": "stderr",
          "output_type": "stream",
          "text": [
            "/usr/local/lib/python3.10/dist-packages/keras/preprocessing/image.py:1137: UserWarning: Found 702 invalid image filename(s) in x_col=\"image_full_name\". These filename(s) will be ignored.\n",
            "  warnings.warn(\n"
          ]
        }
      ],
      "source": [
        "val_data=test_generator.flow_from_dataframe(dataframe=val,x_col=\"image_full_name\",y_col=\"dx\",\n",
        "                                                directory=\"/content/ham10000_images_part_1\",\n",
        "                                             batch_size=64,shuffle=False,class_mode=\"categorical\",target_size=(224,224))"
      ]
    },
    {
      "cell_type": "code",
      "execution_count": null,
      "metadata": {
        "id": "HD9bPEV2Fcbc"
      },
      "outputs": [],
      "source": [
        "from keras.callbacks import ReduceLROnPlateau\n",
        "learning_control=ReduceLROnPlateau(monitor='val_acc',patience=3,verbose=1,factor=.5,min_lr=0.0001)"
      ]
    },
    {
      "cell_type": "code",
      "execution_count": null,
      "metadata": {
        "colab": {
          "base_uri": "https://localhost:8080/"
        },
        "id": "llUjXPayGJa0",
        "outputId": "1cade64b-ab0e-4b1c-8172-92a2c168858f"
      },
      "outputs": [
        {
          "name": "stderr",
          "output_type": "stream",
          "text": [
            "/usr/local/lib/python3.10/dist-packages/keras/optimizers/legacy/gradient_descent.py:114: UserWarning: The `lr` argument is deprecated, use `learning_rate` instead.\n",
            "  super().__init__(name, **kwargs)\n"
          ]
        }
      ],
      "source": [
        "from keras.optimizers.adam import optimizer\n",
        "from keras.optimizers import Adam,SGD\n",
        "sgd=optimizers.SGD(lr=0.01,clipvalue=0.5)\n",
        "model.compile(optimizer=sgd,loss=\"categorical_crossentropy\",metrics=[\"accuracy\"])"
      ]
    },
    {
      "cell_type": "code",
      "execution_count": null,
      "metadata": {
        "colab": {
          "base_uri": "https://localhost:8080/"
        },
        "id": "ZkBfHXy3OF3M",
        "outputId": "561b4cf2-8ac7-4f16-f304-cded1aee62fc"
      },
      "outputs": [
        {
          "name": "stdout",
          "output_type": "stream",
          "text": [
            "<keras.callbacks.ReduceLROnPlateau object at 0x7fc5583c5ae0>\n"
          ]
        }
      ],
      "source": [
        "print(learning_control)"
      ]
    },
    {
      "cell_type": "code",
      "execution_count": null,
      "metadata": {
        "colab": {
          "background_save": true,
          "base_uri": "https://localhost:8080/"
        },
        "id": "j2A3hHRdHBDO",
        "outputId": "6bec8a42-61c4-49d8-d84f-00ba88a4ab59"
      },
      "outputs": [
        {
          "name": "stderr",
          "output_type": "stream",
          "text": [
            "<ipython-input-38-e32234db7242>:1: UserWarning: `Model.fit_generator` is deprecated and will be removed in a future version. Please use `Model.fit`, which supports generators.\n",
            "  history = model.fit_generator(generator=train_data,\n"
          ]
        },
        {
          "name": "stdout",
          "output_type": "stream",
          "text": [
            "Epoch 1/8\n",
            "107/107 [==============================] - ETA: 0s - loss: 0.3819 - accuracy: 0.8731"
          ]
        },
        {
          "name": "stderr",
          "output_type": "stream",
          "text": [
            "WARNING:tensorflow:Learning rate reduction is conditioned on metric `val_acc` which is not available. Available metrics are: loss,accuracy,val_loss,val_accuracy,lr\n"
          ]
        },
        {
          "name": "stdout",
          "output_type": "stream",
          "text": [
            "107/107 [==============================] - 820s 8s/step - loss: 0.3819 - accuracy: 0.8731 - val_loss: 1.3814 - val_accuracy: 0.5540 - lr: 0.0100\n",
            "Epoch 2/8\n",
            "107/107 [==============================] - ETA: 0s - loss: 0.3751 - accuracy: 0.8740"
          ]
        },
        {
          "name": "stderr",
          "output_type": "stream",
          "text": [
            "WARNING:tensorflow:Learning rate reduction is conditioned on metric `val_acc` which is not available. Available metrics are: loss,accuracy,val_loss,val_accuracy,lr\n"
          ]
        },
        {
          "name": "stdout",
          "output_type": "stream",
          "text": [
            "107/107 [==============================] - 870s 8s/step - loss: 0.3751 - accuracy: 0.8740 - val_loss: 1.2663 - val_accuracy: 0.7088 - lr: 0.0100\n",
            "Epoch 3/8\n",
            "107/107 [==============================] - ETA: 0s - loss: 0.3437 - accuracy: 0.8833"
          ]
        },
        {
          "name": "stderr",
          "output_type": "stream",
          "text": [
            "WARNING:tensorflow:Learning rate reduction is conditioned on metric `val_acc` which is not available. Available metrics are: loss,accuracy,val_loss,val_accuracy,lr\n"
          ]
        },
        {
          "name": "stdout",
          "output_type": "stream",
          "text": [
            "107/107 [==============================] - 810s 8s/step - loss: 0.3437 - accuracy: 0.8833 - val_loss: 1.1850 - val_accuracy: 0.6364 - lr: 0.0100\n",
            "Epoch 4/8\n",
            "107/107 [==============================] - ETA: 0s - loss: 0.3374 - accuracy: 0.8813"
          ]
        },
        {
          "name": "stderr",
          "output_type": "stream",
          "text": [
            "WARNING:tensorflow:Learning rate reduction is conditioned on metric `val_acc` which is not available. Available metrics are: loss,accuracy,val_loss,val_accuracy,lr\n"
          ]
        },
        {
          "name": "stdout",
          "output_type": "stream",
          "text": [
            "107/107 [==============================] - 782s 7s/step - loss: 0.3374 - accuracy: 0.8813 - val_loss: 1.1396 - val_accuracy: 0.6705 - lr: 0.0100\n",
            "Epoch 5/8\n",
            "107/107 [==============================] - ETA: 0s - loss: 0.3145 - accuracy: 0.8906"
          ]
        },
        {
          "name": "stderr",
          "output_type": "stream",
          "text": [
            "WARNING:tensorflow:Learning rate reduction is conditioned on metric `val_acc` which is not available. Available metrics are: loss,accuracy,val_loss,val_accuracy,lr\n"
          ]
        },
        {
          "name": "stdout",
          "output_type": "stream",
          "text": [
            "107/107 [==============================] - 803s 7s/step - loss: 0.3145 - accuracy: 0.8906 - val_loss: 1.0490 - val_accuracy: 0.7131 - lr: 0.0100\n",
            "Epoch 6/8\n",
            "107/107 [==============================] - ETA: 0s - loss: 0.2623 - accuracy: 0.9096"
          ]
        },
        {
          "name": "stderr",
          "output_type": "stream",
          "text": [
            "WARNING:tensorflow:Learning rate reduction is conditioned on metric `val_acc` which is not available. Available metrics are: loss,accuracy,val_loss,val_accuracy,lr\n"
          ]
        },
        {
          "name": "stdout",
          "output_type": "stream",
          "text": [
            "107/107 [==============================] - 806s 8s/step - loss: 0.2623 - accuracy: 0.9096 - val_loss: 1.4561 - val_accuracy: 0.7386 - lr: 0.0100\n",
            "Epoch 7/8\n",
            "107/107 [==============================] - ETA: 0s - loss: 0.2158 - accuracy: 0.9228"
          ]
        },
        {
          "name": "stderr",
          "output_type": "stream",
          "text": [
            "WARNING:tensorflow:Learning rate reduction is conditioned on metric `val_acc` which is not available. Available metrics are: loss,accuracy,val_loss,val_accuracy,lr\n"
          ]
        },
        {
          "name": "stdout",
          "output_type": "stream",
          "text": [
            "107/107 [==============================] - 763s 7s/step - loss: 0.2158 - accuracy: 0.9228 - val_loss: 1.4071 - val_accuracy: 0.7628 - lr: 0.0100\n",
            "Epoch 8/8\n",
            "107/107 [==============================] - ETA: 0s - loss: 0.2010 - accuracy: 0.9333"
          ]
        },
        {
          "name": "stderr",
          "output_type": "stream",
          "text": [
            "WARNING:tensorflow:Learning rate reduction is conditioned on metric `val_acc` which is not available. Available metrics are: loss,accuracy,val_loss,val_accuracy,lr\n"
          ]
        },
        {
          "name": "stdout",
          "output_type": "stream",
          "text": [
            "\b\b\b\b\b\b\b\b\b\b\b\b\b\b\b\b\b\b\b\b\b\b\b\b\b\b\b\b\b\b\b\b\b\b\b\b\b\b\b\b\b\b\b\b\b\b\b\b\b\b\b\b\b\b\b\b\b\b\b\b\b\b\b\b\b\b\b\b\b\b\b\b\b\b\b\b\b\b\b\b\b\b\b\b\r107/107 [==============================] - 744s 7s/step - loss: 0.2010 - accuracy: 0.9333 - val_loss: 2.2716 - val_accuracy: 0.7244 - lr: 0.0100\n"
          ]
        }
      ],
      "source": [
        "history = model.fit_generator(generator=train_data,\n",
        "                            steps_per_epoch=train_data.samples//train_data.batch_size,\n",
        "                            validation_data=val_data,\n",
        "                            verbose=1,\n",
        "                            validation_steps=val_data.samples//val_data.batch_size,\n",
        "                            epochs=25,callbacks=[learning_control])"
      ]
    },
    {
      "cell_type": "code",
      "execution_count": null,
      "metadata": {
        "id": "umo26qJyD_E7"
      },
      "outputs": [],
      "source": [
        "model.save('skincancer.h5')"
      ]
    },
    {
      "cell_type": "code",
      "execution_count": null,
      "metadata": {
        "id": "Kfg2Qw-zEXYv"
      },
      "outputs": [],
      "source": [
        "import matplotlib.pyplot as plt\n",
        "plt.plot(history.history['accuracy'])\n",
        "plt.plot(history.history['val_accuracy'])\n",
        "plt.title('model accuracy')\n",
        "plt.ylabel('accuracy')\n",
        "plt.xlabel('epoch')\n",
        "plt.legend(['train','val'],loc='upper left')\n",
        "plt.show()\n"
      ]
    },
    {
      "cell_type": "code",
      "execution_count": null,
      "metadata": {
        "id": "7kHcckEaF86M"
      },
      "outputs": [],
      "source": [
        "plt.plot(history.history['loss'])\n",
        "plt.plot(history.history['val_loss'])\n",
        "plt.title('model loss')\n",
        "plt.ylabel('loss')\n",
        "plt.xlabel('epoch')\n",
        "plt.legend(['train','val'],loc='upper left')\n",
        "plt.show()"
      ]
    },
    {
      "cell_type": "code",
      "execution_count": null,
      "metadata": {
        "id": "ZBTZDL6QIWwA"
      },
      "outputs": [],
      "source": [
        "test_data.reset()\n",
        "predictions = model.predict_generator(test_data,steps=test_data.samples/test_data.batch_size,verbose=1)\n",
        "y_pred=np.argmax(predictions,axis=1)\n"
      ]
    },
    {
      "cell_type": "code",
      "execution_count": null,
      "metadata": {
        "id": "hqn1qVJVI7Cc"
      },
      "outputs": [],
      "source": [
        "c=np.where(y_pred==name_as_indexes_test)"
      ]
    },
    {
      "cell_type": "code",
      "execution_count": null,
      "metadata": {
        "id": "AjNnSc2hJJwd"
      },
      "outputs": [],
      "source": [
        "np.count_nonzero(c)"
      ]
    },
    {
      "cell_type": "code",
      "execution_count": null,
      "metadata": {
        "id": "DrRl6bSNJTev"
      },
      "outputs": [],
      "source": [
        "print(\"Test Accuracy :\",(np.count_nonzero(c)/len(name_as_indexes_test))*100)"
      ]
    },
    {
      "cell_type": "code",
      "execution_count": null,
      "metadata": {
        "id": "a6rDxopOJnDF"
      },
      "outputs": [],
      "source": [
        "from sklearn.metrics import classification_report\n",
        "report = classification_report(name_as_indexes_test, y_pred)\n",
        "print(report)"
      ]
    },
    {
      "cell_type": "code",
      "execution_count": null,
      "metadata": {
        "id": "HuO8NDbGKCX1"
      },
      "outputs": [],
      "source": [
        "model.save(\"skincancermodel.h5\")"
      ]
    },
    {
      "cell_type": "code",
      "execution_count": null,
      "metadata": {
        "id": "k4hUHaX88Ikh"
      },
      "outputs": [],
      "source": [
        "!pip install streamlit"
      ]
    },
    {
      "cell_type": "code",
      "execution_count": null,
      "metadata": {
        "id": "BDy1slME8phd"
      },
      "outputs": [],
      "source": [
        "%%writefile app.py\n"
      ]
    },
    {
      "cell_type": "code",
      "execution_count": null,
      "metadata": {
        "id": "CfwUcPs79jBM"
      },
      "outputs": [],
      "source": [
        "import streamlit as st\n",
        "import tensorflow as tf\n",
        "\n",
        "st.set_option('deprecation.showfileUploaderEncoding',False)\n",
        "@st.cache(allow_output_mutation=True)\n",
        "def load_model():\n",
        "  model=tf.keras.models.load_model('skincancermodel')\n",
        "  return model\n",
        "model=load_model()\n",
        "st.write(\"Health Care\")\n",
        "st.write(\"\"\"\n",
        "        #Skin Lesion Detector Web tool\n",
        "        \"\"\"\n",
        "        )\n",
        "\n",
        "file=st.file_uploader(\"Choose...\", type=[\"jpg\",\"png\"])\n",
        "import cv2\n",
        "from PIL import Image,ImageOps\n",
        "import numpy as np\n",
        "def import_and_predict(image_data,model):\n",
        "  size=(180,180)\n",
        "  image=ImageOps.fit(image_data,size,Image.ANTIALIAS)\n",
        "  img=np.asarray(image)\n",
        "  img_reshape=img[np.newaxis,...]\n",
        "  prediction=model.predict(img_reshape)\n",
        "\n",
        "  return prediction\n",
        "\n",
        "if file is None:\n",
        "  st.text(\"Please upload an image file\")\n",
        "else:\n",
        "  image=Image.open(file)\n",
        "  st.image(image,use_column_width=True)\n",
        "  predictions=import_and_predict(image,model)\n",
        "  class_names=[]\n",
        "\n",
        "\n"
      ]
    }
  ],
  "metadata": {
    "colab": {
      "provenance": []
    },
    "kernelspec": {
      "display_name": "Python 3",
      "name": "python3"
    },
    "language_info": {
      "name": "python"
    }
  },
  "nbformat": 4,
  "nbformat_minor": 0
}